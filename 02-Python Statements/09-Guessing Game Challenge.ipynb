{
 "cells": [
  {
   "cell_type": "markdown",
   "metadata": {},
   "source": [
    "# Guessing Game Challenge\n",
    "\n",
    "Let's use `while` loops to create a guessing game.\n",
    "\n",
    "The Challenge:\n",
    "\n",
    "Write a program that picks a random integer from 1 to 100, and has players guess the number. The rules are:\n",
    "\n",
    "1. If a player's guess is less than 1 or greater than 100, say \"OUT OF BOUNDS\"\n",
    "2. On a player's first turn, if their guess is\n",
    " * within 10 of the number, return \"WARM!\"\n",
    " * further than 10 away from the number, return \"COLD!\"\n",
    "3. On all subsequent turns, if a guess is \n",
    " * closer to the number than the previous guess return \"WARMER!\"\n",
    " * farther from the number than the previous guess, return \"COLDER!\"\n",
    "4. When the player's guess equals the number, tell them they've guessed correctly *and* how many guesses it took!\n",
    "\n",
    "You can try this from scratch, or follow the steps outlined below. A separate Solution notebook has been provided. Good luck!\n"
   ]
  },
  {
   "cell_type": "markdown",
   "metadata": {},
   "source": [
    "#### First, pick a random integer from 1 to 100 using the random module and assign it to a variable\n",
    "\n",
    "Note: `random.randint(a,b)` returns a random integer in range `[a, b]`, including both end points."
   ]
  },
  {
   "cell_type": "code",
   "execution_count": 3,
   "metadata": {},
   "outputs": [],
   "source": [
    "from random import randint\n",
    "target=randint(1,100)"
   ]
  },
  {
   "cell_type": "markdown",
   "metadata": {},
   "source": [
    "#### Next, print an introduction to the game and explain the rules"
   ]
  },
  {
   "cell_type": "code",
   "execution_count": 2,
   "metadata": {},
   "outputs": [
    {
     "name": "stdout",
     "output_type": "stream",
     "text": [
      "Welcome to the Guessnum! Guess the number and you will be given clues to guess again. if guess is within 10 numbers, then it will warm. if not, then it will mention cold.  Further guesses will give you indication whether you are going warmer or colder\n"
     ]
    }
   ],
   "source": [
    "print('Welcome to the Guessnum! Guess the number and you will be given clues to guess again. if guess is within 10 numbers, then it will warm. if not, then it will mention cold.  Further guesses will give you indication whether you are going warmer or colder')"
   ]
  },
  {
   "cell_type": "markdown",
   "metadata": {},
   "source": [
    "#### Create a list to store guesses\n",
    "\n",
    "Hint: zero is a good placeholder value. It's useful because it evaluates to \"False\""
   ]
  },
  {
   "cell_type": "code",
   "execution_count": 1,
   "metadata": {},
   "outputs": [],
   "source": [
    "guesslist=[]"
   ]
  },
  {
   "cell_type": "markdown",
   "metadata": {},
   "source": [
    "#### Write a `while` loop that asks for a valid guess. Test it a few times to make sure it works."
   ]
  },
  {
   "cell_type": "code",
   "execution_count": 4,
   "metadata": {},
   "outputs": [
    {
     "name": "stdout",
     "output_type": "stream",
     "text": [
      "Enter a valid guess between 1-100: 20\n",
      "good\n",
      "Enter a valid guess between 1-100: 999\n",
      "bad\n"
     ]
    }
   ],
   "source": [
    "while True:\n",
    "    guess = int(input('Enter a valid guess between 1-100: '))\n",
    "    if 1<=guess<=100 : \n",
    "        print('good')\n",
    "    else:\n",
    "        print('bad')\n",
    "        break\n",
    "        "
   ]
  },
  {
   "cell_type": "markdown",
   "metadata": {},
   "source": [
    "#### Write a `while` loop that compares the player's guess to our number. If the player guesses correctly, break from the loop. Otherwise, tell the player if they're warmer or colder, and continue asking for guesses.\n",
    "\n",
    "Some hints:\n",
    "* it may help to sketch out all possible combinations on paper first!\n",
    "* you can use the `abs()` function to find the positive difference between two numbers\n",
    "* if you append all new guesses to the list, then the previous guess is given as `guesses[-2]`"
   ]
  },
  {
   "cell_type": "code",
   "execution_count": 4,
   "metadata": {},
   "outputs": [
    {
     "name": "stdout",
     "output_type": "stream",
     "text": [
      "Enter a valid guess between 1-100 (enter 0 to quit): 75\n",
      "Cold\n",
      "Enter a valid guess between 1-100 (enter 0 to quit): 65\n",
      "Warmer\n",
      "Enter a valid guess between 1-100 (enter 0 to quit): 55\n",
      "Warmer\n",
      "Enter a valid guess between 1-100 (enter 0 to quit): 45\n",
      "Warmer\n",
      "Enter a valid guess between 1-100 (enter 0 to quit): 35\n",
      "Warmer\n",
      "Enter a valid guess between 1-100 (enter 0 to quit): 25\n",
      "Warmer\n",
      "Enter a valid guess between 1-100 (enter 0 to quit): 15\n",
      "Colder\n",
      "Enter a valid guess between 1-100 (enter 0 to quit): 20\n",
      "Warmer\n",
      "Enter a valid guess between 1-100 (enter 0 to quit): 23\n",
      "Warmer\n",
      "Enter a valid guess between 1-100 (enter 0 to quit): 24\n",
      "Colder\n",
      "Enter a valid guess between 1-100 (enter 0 to quit): 22\n",
      "You won the game\n",
      "Chances you took are 11\n",
      "target value is 22\n",
      "Enter a valid guess between 1-100 (enter 0 to quit): 0\n"
     ]
    }
   ],
   "source": [
    "while True:\n",
    "    guess = int(input('Enter a valid guess between 1-100 (enter 0 to quit): '))\n",
    "    if 1<=guess<=100: \n",
    "        delta = guess - target\n",
    "        guesslist.append(guess)\n",
    "        if len(guesslist)==1:\n",
    "            if delta==0:\n",
    "                print('You won the game')\n",
    "                print('Chances you took are {}'.format(len(guesslist)))\n",
    "                print('target value is {}'.format(target))\n",
    "            if abs(delta)>10: \n",
    "                print('Cold')\n",
    "            elif abs(delta)>0 and abs(delta)<10:\n",
    "                print('Warm')\n",
    "        else:\n",
    "            if guess==target:\n",
    "                print('You won the game')\n",
    "                print('Chances you took are {}'.format(len(guesslist)))\n",
    "                print('target value is {}'.format(target))                \n",
    "            elif abs(delta)<abs(target-guesslist[-2]):\n",
    "                print('Warmer')\n",
    "            elif abs(delta)>abs(target-guesslist[-2]):\n",
    "                print('Colder')\n",
    "                        \n",
    "    elif guess==0:\n",
    "        break\n",
    "    else: \n",
    "        print(\"Out of bounds\")\n",
    "        continue"
   ]
  },
  {
   "cell_type": "markdown",
   "metadata": {},
   "source": [
    "That's it! You've just programmed your first game!\n",
    "\n",
    "In the next section we'll learn how to turn some of these repetitive actions into *functions* that can be called whenever we need them."
   ]
  },
  {
   "cell_type": "markdown",
   "metadata": {},
   "source": [
    "### Good Job!"
   ]
  },
  {
   "cell_type": "code",
   "execution_count": 9,
   "metadata": {},
   "outputs": [
    {
     "data": {
      "text/plain": [
       "75"
      ]
     },
     "execution_count": 9,
     "metadata": {},
     "output_type": "execute_result"
    }
   ],
   "source": [
    "target"
   ]
  },
  {
   "cell_type": "code",
   "execution_count": null,
   "metadata": {},
   "outputs": [],
   "source": []
  }
 ],
 "metadata": {
  "kernelspec": {
   "display_name": "Python 3",
   "language": "python",
   "name": "python3"
  },
  "language_info": {
   "codemirror_mode": {
    "name": "ipython",
    "version": 3
   },
   "file_extension": ".py",
   "mimetype": "text/x-python",
   "name": "python",
   "nbconvert_exporter": "python",
   "pygments_lexer": "ipython3",
   "version": "3.7.0"
  }
 },
 "nbformat": 4,
 "nbformat_minor": 2
}
