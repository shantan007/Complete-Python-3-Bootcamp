{
 "cells": [
  {
   "cell_type": "markdown",
   "metadata": {},
   "source": [
    "# Milestone Project 1\n",
    "## Congratulations on making it to your first milestone!\n",
    "You've already learned a ton and are ready to work on a real project.\n",
    "\n",
    "Your assignment: Create a Tic Tac Toe game. You are free to use any IDE you like.\n",
    "\n",
    "Here are the requirements:\n",
    "\n",
    "* 2 players should be able to play the game (both sitting at the same computer)\n",
    "* The board should be printed out every time a player makes a move\n",
    "* You should be able to accept input of the player position and then place a symbol on the board\n",
    "\n",
    "Feel free to use Google to help you figure anything out (but don't just Google \"Tic Tac Toe in Python\" otherwise you won't learn anything!) Keep in mind that this project can take anywhere between several hours to several days.\n",
    "\n",
    "There are 4 Jupyter Notebooks related to this assignment:\n",
    "\n",
    "* This Assignment Notebook\n",
    "* A \"Walkthrough Steps Workbook\" Notebook\n",
    "* A \"Complete Walkthrough Solution\" Notebook\n",
    "* An \"Advanced Solution\" Notebook\n",
    "\n",
    "I encourage you to just try to start the project on your own without referencing any of the notebooks. If you get stuck, check out the next lecture which is a text lecture with helpful hints and steps. If you're still stuck after that, then check out the Walkthrough Steps Workbook, which breaks up the project in steps for you to solve. Still stuck? Then check out the Complete Walkthrough Solution video for more help on approaching the project!"
   ]
  },
  {
   "cell_type": "markdown",
   "metadata": {},
   "source": [
    "There are parts of this that will be a struggle...and that is good! I have complete faith that if you have made it this far through the course you have all the tools and knowledge to tackle this project. Remember, it's totally open book, so take your time, do a little research, and remember:\n",
    "\n",
    "## HAVE FUN!"
   ]
  },
  {
   "cell_type": "code",
   "execution_count": 30,
   "metadata": {},
   "outputs": [],
   "source": [
    "from IPython.display import clear_output\n",
    "def display_board(v):\n",
    "    clear_output()\n",
    "    for i in range(0,9,3):\n",
    "        print(f' {v[i]} | {v[i+1]} | {v[i+2]}')\n",
    "        if i!=6: \n",
    "            print('------------')   "
   ]
  },
  {
   "cell_type": "code",
   "execution_count": 20,
   "metadata": {},
   "outputs": [],
   "source": [
    "def appender(values,position,player):\n",
    "    if player and values[position]==\" \":\n",
    "        values[position]='X'\n",
    "    elif not player and values[position]==' ':\n",
    "        values[position]='O'\n",
    "    else:\n",
    "        print('Dont choose the number already chosen. Select a different number')\n",
    "    return values"
   ]
  },
  {
   "cell_type": "code",
   "execution_count": 21,
   "metadata": {},
   "outputs": [],
   "source": [
    "def result_checker(values):\n",
    "    winning_list = [[0,1,2],[3,4,5],[6,7,8],[0,3,6],[1,4,7],[2,5,8],[0,4,8],[2,4,6]]\n",
    "    for [s0,s1,s2] in winning_list:\n",
    "        if values[s0]==values[s1]==values[s2]=='X':\n",
    "            return 1\n",
    "        elif values[s0]==values[s1]==values[s2]=='O':\n",
    "            return 2\n",
    "    else: return 0"
   ]
  },
  {
   "cell_type": "code",
   "execution_count": 22,
   "metadata": {},
   "outputs": [],
   "source": [
    "def pos_checker(num):\n",
    "    if num>=0 and num<=8:\n",
    "        return False\n",
    "    else:\n",
    "        print('Enter the number within the range only')\n",
    "        return True"
   ]
  },
  {
   "cell_type": "code",
   "execution_count": 31,
   "metadata": {},
   "outputs": [],
   "source": [
    "def initiator():\n",
    "    global values\n",
    "    global result\n",
    "    global player\n",
    "    global turns\n",
    "    values = [' ']*9\n",
    "    result = 0\n",
    "    player=True\n",
    "    turns = 0\n",
    "    poslist=['0','1','2','3','4','5','6','7','8']\n",
    "    display_board(poslist)"
   ]
  },
  {
   "cell_type": "code",
   "execution_count": 26,
   "metadata": {},
   "outputs": [],
   "source": [
    "def tictactoe():\n",
    "    # opening rules and welcome\n",
    "    print('Welcome to my first game, it is going to rock')\n",
    "    print('---------------------------------------------------------------------')\n",
    "    print('Each player will be given a chance to enter a position.')\n",
    "    print('Player who completes a sequence first is the winner. \\nEach player will alternate in order to enter a position on the board.\\nLets begin the game')\n",
    "    print('---------------------------------------------------------------------\\n')\n",
    "    \n",
    "    #Take the players names\n",
    "    player1=input(\"Enter the first players name: \")\n",
    "    player2=input('Enter the second players name: ')\n",
    "    \n",
    "    #Initial settings to start the game\n",
    "    values = [' ']*9\n",
    "    result = 0\n",
    "    player=True\n",
    "    turns = 0\n",
    "    poslist=['0','1','2','3','4','5','6','7','8']\n",
    "    display_board(poslist)\n",
    "    \n",
    "    #Actual game play\n",
    "    while result == 0:\n",
    "        # Get user to give the correct position\n",
    "        pos_ckr=True\n",
    "        while pos_ckr:\n",
    "            position = int(input('Enter a value between 0 to 8: '))\n",
    "            pos_ckr = pos_checker(position)\n",
    "        \n",
    "        #Append the value to the tic tac toe board\n",
    "        appender(values,position,player)    \n",
    "        display_board(values)\n",
    "        \n",
    "        # Check for the result\n",
    "        result = result_checker(values)\n",
    "        if result == 1: \n",
    "            print('Game over. Winner is {}'.format(player1))\n",
    "            again = input('Do you want to play again? (Y/N): ')\n",
    "            if again=='Y': \n",
    "                initiator()\n",
    "        elif result == 2:\n",
    "            print('Game over. Winner is {}'.format(player2))\n",
    "            again = input('Do you want to play again? (Y/N): ')\n",
    "            if again=='Y': \n",
    "                initiator()\n",
    "                \n",
    "        else: \n",
    "            pass\n",
    "        \n",
    "        # change the player & keep track of turns\n",
    "        player = not(player)\n",
    "        turns+=1\n",
    "        \n",
    "        # are we out of space on the board?\n",
    "        if turns==10:\n",
    "            print('Game over, No one has won the game')\n",
    "            again = input('Do you want to play again? (Y/N): ')\n",
    "            if again=='Y': initiator()\n",
    "    \n",
    "    print(\"Good Bye!\")\n",
    "        \n",
    "    \n",
    "    \n",
    "    \n",
    "    \n",
    "    \n",
    "    "
   ]
  },
  {
   "cell_type": "code",
   "execution_count": 29,
   "metadata": {},
   "outputs": [
    {
     "ename": "NameError",
     "evalue": "name 'values' is not defined",
     "output_type": "error",
     "traceback": [
      "\u001b[1;31m---------------------------------------------------------------------------\u001b[0m",
      "\u001b[1;31mNameError\u001b[0m                                 Traceback (most recent call last)",
      "\u001b[1;32m<ipython-input-29-0234f1d70131>\u001b[0m in \u001b[0;36m<module>\u001b[1;34m()\u001b[0m\n\u001b[1;32m----> 1\u001b[1;33m \u001b[0mvalues\u001b[0m\u001b[1;33m\u001b[0m\u001b[0m\n\u001b[0m",
      "\u001b[1;31mNameError\u001b[0m: name 'values' is not defined"
     ]
    }
   ],
   "source": [
    "values"
   ]
  },
  {
   "cell_type": "code",
   "execution_count": null,
   "metadata": {},
   "outputs": [],
   "source": []
  }
 ],
 "metadata": {
  "kernelspec": {
   "display_name": "Python 3",
   "language": "python",
   "name": "python3"
  },
  "language_info": {
   "codemirror_mode": {
    "name": "ipython",
    "version": 3
   },
   "file_extension": ".py",
   "mimetype": "text/x-python",
   "name": "python",
   "nbconvert_exporter": "python",
   "pygments_lexer": "ipython3",
   "version": "3.7.0"
  }
 },
 "nbformat": 4,
 "nbformat_minor": 1
}
