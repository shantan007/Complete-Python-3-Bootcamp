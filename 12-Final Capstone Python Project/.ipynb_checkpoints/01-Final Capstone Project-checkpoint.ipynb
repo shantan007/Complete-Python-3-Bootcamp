{
 "cells": [
  {
   "cell_type": "markdown",
   "metadata": {
    "collapsed": true
   },
   "source": [
    "# Final Capstone Projects\n",
    "\n",
    "Please refer to the [**Final Capstone Projects**](http://nbviewer.jupyter.org/github/jmportilla/Complete-Python-Bootcamp/tree/master/Final%20Capstone%20Projects/) folder to get all the info on final capstone project ideas and possible solutions!"
   ]
  },
  {
   "cell_type": "code",
   "execution_count": 21,
   "metadata": {},
   "outputs": [],
   "source": [
    "# Sieve of erathosthenes\n",
    "\n",
    "def erat_sieve(n):\n",
    "    # generate the number table for further sieving\n",
    "    num_list = [True] * (n+1)\n",
    "    \n",
    "    # start the sieving process\n",
    "    for i in range(2,n+1):\n",
    "        if num_list[i] == True:\n",
    "            k = 2\n",
    "            j=i\n",
    "            while j<(n+1):\n",
    "                j = i*k\n",
    "                k+=1\n",
    "                try:\n",
    "                    num_list[j] = False\n",
    "                except:\n",
    "                    pass\n",
    "                \n",
    "    # print the list of prime numbers\n",
    "    final_list = [i for i in range(2,n+1) if num_list[i]==True]\n",
    "    return final_list\n",
    "            "
   ]
  },
  {
   "cell_type": "code",
   "execution_count": null,
   "metadata": {},
   "outputs": [],
   "source": []
  }
 ],
 "metadata": {
  "kernelspec": {
   "display_name": "Python 3",
   "language": "python",
   "name": "python3"
  },
  "language_info": {
   "codemirror_mode": {
    "name": "ipython",
    "version": 3
   },
   "file_extension": ".py",
   "mimetype": "text/x-python",
   "name": "python",
   "nbconvert_exporter": "python",
   "pygments_lexer": "ipython3",
   "version": "3.7.0"
  }
 },
 "nbformat": 4,
 "nbformat_minor": 1
}
