{
 "cells": [
  {
   "cell_type": "markdown",
   "metadata": {
    "collapsed": true
   },
   "source": [
    "# Final Capstone Projects\n",
    "\n",
    "Please refer to the [**Final Capstone Projects**](http://nbviewer.jupyter.org/github/jmportilla/Complete-Python-Bootcamp/tree/master/Final%20Capstone%20Projects/) folder to get all the info on final capstone project ideas and possible solutions!"
   ]
  },
  {
   "cell_type": "code",
   "execution_count": 1,
   "metadata": {},
   "outputs": [],
   "source": [
    "# Sieve of erathosthenes\n",
    "\n",
    "def erat_sieve(n):\n",
    "    # generate the number table for further sieving\n",
    "    num_list = [True] * (n+1)\n",
    "    \n",
    "    # start the sieving process\n",
    "    for i in range(2,n+1):\n",
    "        if num_list[i] == True:\n",
    "            k = 2\n",
    "            while (i*k)<=(n+1):\n",
    "                num_list[i*k] = False\n",
    "                k+=1\n",
    "                \n",
    "    # print the list of prime numbers\n",
    "    final_list = [i for i in range(2,n+1) if num_list[i]==True]\n",
    "    print(final_list)\n",
    "            "
   ]
  },
  {
   "cell_type": "code",
   "execution_count": 2,
   "metadata": {},
   "outputs": [
    {
     "name": "stdout",
     "output_type": "stream",
     "text": [
      "[2, 3, 5, 7, 11, 13, 17, 19, 23, 29, 31, 37, 41, 43, 47, 53, 59, 61, 67, 71, 73, 79, 83, 89, 97]\n"
     ]
    }
   ],
   "source": [
    "erat_sieve(100)"
   ]
  },
  {
   "cell_type": "code",
   "execution_count": 7,
   "metadata": {},
   "outputs": [],
   "source": [
    "# Find PI to the Nth Digit - Enter a number and have the program generate π (pi) up to that many decimal places. \n",
    "# Keep a limit to how far the program will go.\n",
    "\n",
    "import math \n",
    "\n",
    "def pie():\n",
    "    n = int(input('Enter the decimal you need the value until: '))\n",
    "    print(\"Here is your value of pi: %.*f\" %(n, math.pi))\n"
   ]
  },
  {
   "cell_type": "code",
   "execution_count": 8,
   "metadata": {},
   "outputs": [
    {
     "name": "stdout",
     "output_type": "stream",
     "text": [
      "Enter the decimal you need the value until: 10\n",
      "Here is your value of pi: 3.1415926536\n"
     ]
    }
   ],
   "source": [
    "pie()"
   ]
  },
  {
   "cell_type": "code",
   "execution_count": null,
   "metadata": {},
   "outputs": [],
   "source": []
  }
 ],
 "metadata": {
  "kernelspec": {
   "display_name": "Python 3",
   "language": "python",
   "name": "python3"
  },
  "language_info": {
   "codemirror_mode": {
    "name": "ipython",
    "version": 3
   },
   "file_extension": ".py",
   "mimetype": "text/x-python",
   "name": "python",
   "nbconvert_exporter": "python",
   "pygments_lexer": "ipython3",
   "version": "3.7.0"
  }
 },
 "nbformat": 4,
 "nbformat_minor": 1
}
