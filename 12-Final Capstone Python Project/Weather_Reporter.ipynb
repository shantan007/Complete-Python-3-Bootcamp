{
 "cells": [
  {
   "cell_type": "raw",
   "metadata": {},
   "source": [
    "# Fetch Current Weather - Get the current weather for a given zip/postal code. Optional: Try locating the user automatically."
   ]
  },
  {
   "cell_type": "code",
   "execution_count": null,
   "metadata": {},
   "outputs": [],
   "source": [
    "def current_location():\n",
    "    pass\n",
    "\n",
    "def get_weather():\n",
    "    pass\n",
    "\n",
    "def weather_tool():\n",
    "    \n",
    "    # get the right value to get the weather data\n",
    "    inp = True\n",
    "    while inp:\n",
    "        loc = input('enter the zip code or say \"current\" for current location: ')\n",
    "        if loc == \"current\":\n",
    "            zip = current_location()\n",
    "            inp = False\n",
    "        elif (00001 < int(loc) < 99999):\n",
    "            zip = int(loc)\n",
    "            inp = False\n",
    "        else:\n",
    "            print('enter a valid value!')\n",
    "    \n",
    "    "
   ]
  }
 ],
 "metadata": {
  "kernelspec": {
   "display_name": "Python 3",
   "language": "python",
   "name": "python3"
  },
  "language_info": {
   "codemirror_mode": {
    "name": "ipython",
    "version": 3
   },
   "file_extension": ".py",
   "mimetype": "text/x-python",
   "name": "python",
   "nbconvert_exporter": "python",
   "pygments_lexer": "ipython3",
   "version": "3.6.5"
  }
 },
 "nbformat": 4,
 "nbformat_minor": 2
}
