{
 "cells": [
  {
   "cell_type": "raw",
   "metadata": {},
   "source": [
    "Fetch Current Weather - Get the current weather for a given zip/postal code. Optional: Try locating the user automatically."
   ]
  },
  {
   "cell_type": "code",
   "execution_count": 13,
   "metadata": {},
   "outputs": [],
   "source": [
    "def zip_list():\n",
    "    import pandas as pd\n",
    "    url = 'C:/Users/skajjam/Desktop/USA-Zip.csv'\n",
    "    dt = pd.read_csv(url)\n",
    "    \n",
    "    # Data cleaning to yield a list of valid zip codes only.  CSV filed obtained from internet is not in the format needed.\n",
    "    dtzip = dt.drop(columns = ['City', 'State', 'Abbreviation', 'Unnamed: 4','ZIP code.1','City.1', 'State.1', 'Abbreviation.1'])\n",
    "    dtzip2 = dt.drop(columns = ['ZIP code','City', 'State', 'Abbreviation', 'Unnamed: 4','City.1', 'State.1', 'Abbreviation.1'] )\n",
    "    dtzip2 = dtzip2.dropna()\n",
    "    dtzip2 = dtzip2.astype({'ZIP code.1': 'int64'})\n",
    "    dtzip2 = dtzip2.rename(columns = {'ZIP code.1':'ZIP code'})\n",
    "    dtzip3 = pd.concat([dtzip,dtzip2])\n",
    "    \n",
    "    del dtzip, dtzip2, dt\n",
    "    return dtzip3.values"
   ]
  },
  {
   "cell_type": "code",
   "execution_count": 14,
   "metadata": {},
   "outputs": [],
   "source": [
    "def current_location():\n",
    "    import geocoder\n",
    "    g = geocoder.ip('me')\n",
    "    return g.postal"
   ]
  },
  {
   "cell_type": "code",
   "execution_count": 15,
   "metadata": {},
   "outputs": [],
   "source": [
    "def get_weather(loc):\n",
    "    import requests\n",
    "    api_address = 'http://api.openweathermap.org/data/2.5/weather?appid=886705b4c1182eb1c69f28eb8c520e20&zip='+loc+',us'\n",
    "    \n",
    "    json_data = requests.get(api_address).json()\n",
    "    temp = int((json_data['main']['temp'] - 273) * 9/5 + 32)\n",
    "    \n",
    "    #output the current weather data\n",
    "    print(\"For the city {}\".format(json_data['name']))\n",
    "    print('Current temperature is {} deg.F with {}'.format(temp,json_data['weather'][0]['description']))"
   ]
  },
  {
   "cell_type": "code",
   "execution_count": 6,
   "metadata": {},
   "outputs": [],
   "source": [
    "def weather_tool():\n",
    "    \n",
    "    # get the right value to get the weather data. Input will be checked across a list of zip codes in USA.\n",
    "    inp = True\n",
    "    ziptable = zip_list()\n",
    "    while inp:\n",
    "        try:\n",
    "            loc = input('enter the zip code or say \"current\" for current location: ')\n",
    "            if loc == \"current\":\n",
    "                #zip = current_location()\n",
    "                loc = current_location()\n",
    "                inp = False\n",
    "                break\n",
    "            elif int(loc) in ziptable:\n",
    "                #print('value accepted')\n",
    "                inp = False\n",
    "                break\n",
    "            else:\n",
    "                raise Exception('out of bounds')\n",
    "        except:\n",
    "            print('enter a valid value!')\n",
    "    get_weather(loc)"
   ]
  },
  {
   "cell_type": "code",
   "execution_count": 12,
   "metadata": {},
   "outputs": [
    {
     "name": "stdout",
     "output_type": "stream",
     "text": [
      "enter the zip code or say \"current\" for current location: 95054\n",
      "For the city Santa Clara\n",
      "Current temperature is 59 deg.F with few clouds\n"
     ]
    }
   ],
   "source": [
    "weather_tool()"
   ]
  },
  {
   "cell_type": "code",
   "execution_count": null,
   "metadata": {},
   "outputs": [],
   "source": []
  }
 ],
 "metadata": {
  "kernelspec": {
   "display_name": "Python 3",
   "language": "python",
   "name": "python3"
  },
  "language_info": {
   "codemirror_mode": {
    "name": "ipython",
    "version": 3
   },
   "file_extension": ".py",
   "mimetype": "text/x-python",
   "name": "python",
   "nbconvert_exporter": "python",
   "pygments_lexer": "ipython3",
   "version": "3.7.0"
  }
 },
 "nbformat": 4,
 "nbformat_minor": 2
}
